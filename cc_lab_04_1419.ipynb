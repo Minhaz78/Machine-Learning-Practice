{
  "nbformat": 4,
  "nbformat_minor": 0,
  "metadata": {
    "colab": {
      "name": "cc_lab_04_1419.ipynb",
      "provenance": [],
      "include_colab_link": true
    },
    "kernelspec": {
      "name": "python3",
      "display_name": "Python 3"
    },
    "language_info": {
      "name": "python"
    }
  },
  "cells": [
    {
      "cell_type": "markdown",
      "metadata": {
        "id": "view-in-github",
        "colab_type": "text"
      },
      "source": [
        "<a href=\"https://colab.research.google.com/github/Minhaz78/Machine-Learning-Practice/blob/main/cc_lab_04_1419.ipynb\" target=\"_parent\"><img src=\"https://colab.research.google.com/assets/colab-badge.svg\" alt=\"Open In Colab\"/></a>"
      ]
    },
    {
      "cell_type": "markdown",
      "source": [
        "# Choosing the file"
      ],
      "metadata": {
        "id": "1M6khruj6VyU"
      }
    },
    {
      "cell_type": "code",
      "source": [
        "from google.colab import files\n",
        "f=files.upload()"
      ],
      "metadata": {
        "id": "TngOzFOsshQ6",
        "colab": {
          "resources": {
            "http://localhost:8080/nbextensions/google.colab/files.js": {
              "data": "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",
              "ok": true,
              "headers": [
                [
                  "content-type",
                  "application/javascript"
                ]
              ],
              "status": 200,
              "status_text": ""
            }
          },
          "base_uri": "https://localhost:8080/",
          "height": 74
        },
        "outputId": "92bb572c-8b08-404f-ef21-21f1eff0f817"
      },
      "execution_count": 34,
      "outputs": [
        {
          "output_type": "display_data",
          "data": {
            "text/html": [
              "\n",
              "     <input type=\"file\" id=\"files-fa46fda4-9ae2-45da-aadd-7a335a9b0c3a\" name=\"files[]\" multiple disabled\n",
              "        style=\"border:none\" />\n",
              "     <output id=\"result-fa46fda4-9ae2-45da-aadd-7a335a9b0c3a\">\n",
              "      Upload widget is only available when the cell has been executed in the\n",
              "      current browser session. Please rerun this cell to enable.\n",
              "      </output>\n",
              "      <script src=\"/nbextensions/google.colab/files.js\"></script> "
            ],
            "text/plain": [
              "<IPython.core.display.HTML object>"
            ]
          },
          "metadata": {}
        },
        {
          "output_type": "stream",
          "name": "stdout",
          "text": [
            "Saving piramid1.c to piramid1 (2).c\n"
          ]
        }
      ]
    },
    {
      "cell_type": "code",
      "source": [
        "f"
      ],
      "metadata": {
        "id": "T_n4avZTK2HY",
        "outputId": "a61aa10d-98de-4693-b00b-3e030af9da6f",
        "colab": {
          "base_uri": "https://localhost:8080/"
        }
      },
      "execution_count": 35,
      "outputs": [
        {
          "output_type": "execute_result",
          "data": {
            "text/plain": [
              "{'piramid1.c': b'#include<stdio.h>\\r\\n#include<conio.h>\\r\\nint main()\\r\\n{\\r\\n    /*this code is making a piramid.*/\\r\\n    int n,p,i,j,x; //declare the value\\r\\n    scanf(\"%d\",&n);\\r\\n    for (p=1;p<=n;p++)\\r\\n    {\\r\\n        x=n-p;\\r\\n        for (i=1;i<=x;i++) //this is for loop.\\r\\n        {\\r\\n            printf(\" \"); //print the output\\r\\n        }\\r\\n        for (j=1;j<=p;j++)\\r\\n        {\\r\\n            printf(\"#\");\\r\\n        }\\r\\n        printf(\"\\\\n\"); //this is new line\\r\\n    }\\r\\n\\r\\n}\\r\\n'}"
            ]
          },
          "metadata": {},
          "execution_count": 35
        }
      ]
    },
    {
      "cell_type": "markdown",
      "source": [
        "# Taking the first key from the file"
      ],
      "metadata": {
        "id": "iQp8g0cH6jTd"
      }
    },
    {
      "cell_type": "code",
      "source": [
        "filename = \"\"\n",
        "for key, value in f.items():\n",
        "    filename = key\n",
        "    break\n"
      ],
      "metadata": {
        "id": "NiTAKLxOLRfv"
      },
      "execution_count": 36,
      "outputs": []
    },
    {
      "cell_type": "markdown",
      "source": [
        "# File Reading"
      ],
      "metadata": {
        "id": "Acqo9fur6BLi"
      }
    },
    {
      "cell_type": "code",
      "source": [
        "f = open('/content/'+ filename, 'r')\n",
        "temp = f.read()"
      ],
      "metadata": {
        "id": "CIgmj88rtCNK"
      },
      "execution_count": 37,
      "outputs": []
    },
    {
      "cell_type": "code",
      "source": [
        "print(temp)"
      ],
      "metadata": {
        "id": "P8UCZnz8wg-M",
        "outputId": "2e167dda-9ff0-4b04-a0df-d74cd014bccc",
        "colab": {
          "base_uri": "https://localhost:8080/"
        }
      },
      "execution_count": 38,
      "outputs": [
        {
          "output_type": "stream",
          "name": "stdout",
          "text": [
            "#include<stdio.h>\n",
            "#include<conio.h>\n",
            "int main()\n",
            "{\n",
            "    /*this code is making a piramid.*/\n",
            "    int n,p,i,j,x; //declare the value\n",
            "    scanf(\"%d\",&n);\n",
            "    for (p=1;p<=n;p++)\n",
            "    {\n",
            "        x=n-p;\n",
            "        for (i=1;i<=x;i++) //this is for loop.\n",
            "        {\n",
            "            printf(\" \"); //print the output\n",
            "        }\n",
            "        for (j=1;j<=p;j++)\n",
            "        {\n",
            "            printf(\"#\");\n",
            "        }\n",
            "        printf(\"\\n\"); //this is new line\n",
            "    }\n",
            "\n",
            "}\n",
            "\n"
          ]
        }
      ]
    },
    {
      "cell_type": "markdown",
      "source": [
        "# Comment Remover Section"
      ],
      "metadata": {
        "id": "DQwYeVec54by"
      }
    },
    {
      "cell_type": "code",
      "source": [
        "import re\n",
        "def comment_remover(text):\n",
        "    def replacer(match):\n",
        "        s = match.group(0)\n",
        "        if s.startswith('/'):\n",
        "            return \" \" # note: a space and not an empty string\n",
        "        else:\n",
        "            return s\n",
        "    pattern = re.compile(\n",
        "        r'//.*?$|/\\*.*?\\*/|\\'(?:\\\\.|[^\\\\\\'])*\\'|\"(?:\\\\.|[^\\\\\"])*\"',\n",
        "        re.DOTALL | re.MULTILINE\n",
        "    )\n",
        "    return re.sub(pattern, replacer, text)"
      ],
      "metadata": {
        "id": "EtEUVm25to80"
      },
      "execution_count": 39,
      "outputs": []
    },
    {
      "cell_type": "code",
      "source": [
        "print(comment_remover(temp))\n",
        "contents=comment_remover(temp)"
      ],
      "metadata": {
        "id": "x3nN2kxVuyvM",
        "colab": {
          "base_uri": "https://localhost:8080/"
        },
        "outputId": "7f310cba-7031-4def-faf3-56a5650a23a0"
      },
      "execution_count": 40,
      "outputs": [
        {
          "output_type": "stream",
          "name": "stdout",
          "text": [
            "#include<stdio.h>\n",
            "#include<conio.h>\n",
            "int main()\n",
            "{\n",
            "     \n",
            "    int n,p,i,j,x;  \n",
            "    scanf(\"%d\",&n);\n",
            "    for (p=1;p<=n;p++)\n",
            "    {\n",
            "        x=n-p;\n",
            "        for (i=1;i<=x;i++)  \n",
            "        {\n",
            "            printf(\" \");  \n",
            "        }\n",
            "        for (j=1;j<=p;j++)\n",
            "        {\n",
            "            printf(\"#\");\n",
            "        }\n",
            "        printf(\"\\n\");  \n",
            "    }\n",
            "\n",
            "}\n",
            "\n"
          ]
        }
      ]
    },
    {
      "cell_type": "markdown",
      "source": [
        "### comment removing file save"
      ],
      "metadata": {
        "id": "sbGaJxeB5rmv"
      }
    },
    {
      "cell_type": "code",
      "source": [
        "file = open('output.c', 'w')\n",
        "file.write(comment_remover(temp))\n",
        "file.close()"
      ],
      "metadata": {
        "id": "_p3i1WE4yfWl"
      },
      "execution_count": 41,
      "outputs": []
    },
    {
      "cell_type": "code",
      "source": [
        "def Convert(lst):\n",
        "    res_dct = {lst[i]: 0 for i in range(0, len(lst))}\n",
        "    return res_dct\n",
        "keyword = ['break','case','char','const','countinue','deafult','do','int','else','enum','extern','float','for','goto','if','long','register','return','short','signed','sizeof','static','switch','typedef','union','unsigned','void','volatile','while']\n",
        "keyword = Convert(keyword)\n",
        "file = open('output.c','r+')\n",
        "contents = file.read()\n",
        "splitCode = contents.split() \n",
        "length = len(splitCode)      \n",
        "for i in range(0,length):\n",
        "  if splitCode[i] in keyword:\n",
        "      keyword[splitCode[i]] += 1\n",
        "    \n",
        " \n"
      ],
      "metadata": {
        "id": "UL8dwLY371vC"
      },
      "execution_count": 42,
      "outputs": []
    },
    {
      "cell_type": "markdown",
      "source": [
        "### counting and print the keyword."
      ],
      "metadata": {
        "id": "ZuBt3KAK5VKw"
      }
    },
    {
      "cell_type": "code",
      "source": [
        "\n",
        "totalkeyword = 0\n",
        "for i, j in keyword.items():\n",
        "  if j>0:\n",
        "    totalkeyword +=1\n",
        "    print(i, ' =  ',j)\n",
        "    \n",
        "print('Total keyword :',totalkeyword)"
      ],
      "metadata": {
        "colab": {
          "base_uri": "https://localhost:8080/"
        },
        "id": "8UMr4RtX5QpT",
        "outputId": "a918293c-d209-49d2-c05e-76c33d61eb7a"
      },
      "execution_count": 52,
      "outputs": [
        {
          "output_type": "stream",
          "name": "stdout",
          "text": [
            "int  =   2\n",
            "for  =   3\n",
            "Total keyword : 2\n"
          ]
        }
      ]
    },
    {
      "cell_type": "markdown",
      "source": [
        "## Scaning the identifier"
      ],
      "metadata": {
        "id": "qPWhCIDDFvZ3"
      }
    },
    {
      "cell_type": "code",
      "source": [
        "nltk.download('punkt')\n",
        "import nltk\n",
        "import re\n",
        " \n",
        "f = open('output.c', 'r')\n",
        "program = f.read()\n",
        "count = 0\n",
        " \n",
        "Identifiers_Output = []\n",
        "Keywords_Output = []\n",
        "Symbols_Output = []\n",
        "Operators_Output = []\n",
        "Numerals_Output = []\n",
        "Headers_Output = []\n",
        " \n",
        "def remove_Spaces(program):\n",
        "    scanned_Program = []\n",
        "    for line in prog:\n",
        "        if (line.strip() != ''):\n",
        "            scanned_Program.append(line.strip())\n",
        "    return scanned_Program\n",
        " \n",
        " \n",
        "def remove_Comments(program):\n",
        "    program_Multi_Comments_Removed = re.sub(\"/\\*[^*]*\\*+(?:[^/*][^*]*\\*+)*/\", \"\", program)\n",
        "    program_Single_Comments_Removed = re.sub(\"//.*\", \"\", program_Multi_Comments_Removed)\n",
        "    program_Comments_removed = program_Single_Comments_Removed\n",
        "    return program_Comments_removed\n",
        " \n",
        " \n",
        " \n",
        "RE_Keywords = \"auto|break|case|char|const|continue|default|do|double|else|enum|extern|float|for|goto|if|int|long|register|return|short|signed|sizeof|static|struct|switch|typedef|union|unsigned|scanf|void|volatile|main|while|string|class|struc|include\"\n",
        "RE_Operators = \"(\\++)|(-)|(=)|(\\*)|(/)|(%)|(--)|(<=)|(>=)\"\n",
        "RE_Numerals = \"^(\\d+)$\"\n",
        "RE_Special_Characters = \"[\\[@&~!#$\\^\\|{}\\]:;<>?,\\.']|\\(\\)|\\(|\\)|{}|\\[\\]|\\\"\"\n",
        "RE_Identifiers = \"^[a-zA-Z_]+[a-zA-Z0-9_]*\"\n",
        "RE_Headers = \"([a-zA-Z]+\\.[h])\"\n",
        " \n",
        " \n",
        "program_Comments_removed = remove_Comments(program)\n",
        "prog = program_Comments_removed.split('\\n')\n",
        " \n",
        " \n",
        "scanned_Prog = remove_Spaces(prog)\n",
        " \n",
        "scanned_Program = '\\n'.join([str(elem) for elem in scanned_Prog])\n",
        " \n",
        " \n",
        " \n",
        "scanned_Program_lines = scanned_Program.split('\\n')\n",
        "match_counter = 0\n",
        " \n",
        " \n",
        "Source_Code=[]\n",
        "for line in scanned_Program_lines:\n",
        "        Source_Code.append(line)\n",
        " \n",
        " \n",
        "display_counter = 0\n",
        "for line in Source_Code:\n",
        "    count = count + 1\n",
        "    if(line.startswith(\"#include\")):\n",
        "        tokens = nltk.word_tokenize(line)\n",
        "    else:\n",
        "        tokens = nltk.wordpunct_tokenize(line)\n",
        "    for token in tokens:\n",
        "        \n",
        "        if (re.findall(RE_Identifiers, token) and not re.findall(RE_Keywords, token) and not re.findall(RE_Headers,token) and not re.findall(RE_Operators, token) and not re.findall(RE_Numerals,token) and not re.findall(RE_Special_Characters, token) ):\n",
        "            Identifiers_Output.append(token)\n",
        " \n",
        " \n",
        "\n",
        "print(\"There are \",len(Identifiers_Output),\"Identifiers: \",Identifiers_Output)\n",
        "print(\"\\n\")\n",
        "\n",
        "\n"
      ],
      "metadata": {
        "colab": {
          "base_uri": "https://localhost:8080/"
        },
        "id": "g6nRTdBuy34P",
        "outputId": "efd75d56-3628-44e2-9c44-fc012b2e1286"
      },
      "execution_count": 60,
      "outputs": [
        {
          "output_type": "stream",
          "name": "stdout",
          "text": [
            "[nltk_data] Downloading package punkt to /root/nltk_data...\n",
            "[nltk_data]   Package punkt is already up-to-date!\n",
            "There are  23 Identifiers:  ['n', 'p', 'i', 'j', 'x', 'd', 'n', 'p', 'p', 'n', 'p', 'x', 'n', 'p', 'i', 'i', 'x', 'i', 'j', 'j', 'p', 'j', 'n']\n",
            "\n",
            "\n"
          ]
        }
      ]
    },
    {
      "cell_type": "code",
      "source": [
        "import pandas as pd\n",
        "from collections import Counter\n",
        "identifier = Counter(Identifiers_Output)\n",
        "print('\\n')\n",
        "print(pd.DataFrame(identifier.items(), columns=['Identifier', 'Value']))"
      ],
      "metadata": {
        "colab": {
          "base_uri": "https://localhost:8080/"
        },
        "id": "PFLqPJvwe7AL",
        "outputId": "8069a465-b105-46a8-e666-b64f6f6840e5"
      },
      "execution_count": 69,
      "outputs": [
        {
          "output_type": "stream",
          "name": "stdout",
          "text": [
            "\n",
            "\n",
            "  Identifier  Value\n",
            "0          n      5\n",
            "1          p      6\n",
            "2          i      4\n",
            "3          j      4\n",
            "4          x      3\n",
            "5          d      1\n"
          ]
        }
      ]
    }
  ]
}